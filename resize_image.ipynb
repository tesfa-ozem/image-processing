{
 "cells": [
  {
   "cell_type": "code",
   "execution_count": 2,
   "source": [
    "from PIL import Image\n",
    "from pathlib import Path\n",
    "import glob\n",
    "import re\n",
    "import numpy as np\n",
    "import pandas as pd\n",
    "import xlsxwriter\n",
    "import base64"
   ],
   "outputs": [
    {
     "output_type": "stream",
     "name": "stderr",
     "text": [
      "/Users/ace/.virtualenvs/image-pro-env/lib/python3.9/site-packages/pandas/compat/__init__.py:124: UserWarning: Could not import the lzma module. Your installed Python is incomplete. Attempting to use lzma compression will result in a RuntimeError.\n",
      "  warnings.warn(msg)\n"
     ]
    }
   ],
   "metadata": {}
  },
  {
   "cell_type": "code",
   "execution_count": 13,
   "source": [
    "files = glob.glob('Verified Photos/**/*.*')"
   ],
   "outputs": [],
   "metadata": {}
  },
  {
   "cell_type": "code",
   "execution_count": 14,
   "source": [
    "def compress_images():\n",
    "    for file in files:\n",
    "        image = Image.open(file)\n",
    "        new_image = image.resize((128, 128))\n",
    "        new_image.save(file)\n",
    "\n",
    "compress_images()"
   ],
   "outputs": [],
   "metadata": {}
  }
 ],
 "metadata": {
  "orig_nbformat": 4,
  "language_info": {
   "name": "python",
   "version": "3.9.4",
   "mimetype": "text/x-python",
   "codemirror_mode": {
    "name": "ipython",
    "version": 3
   },
   "pygments_lexer": "ipython3",
   "nbconvert_exporter": "python",
   "file_extension": ".py"
  },
  "kernelspec": {
   "name": "python3",
   "display_name": "Python 3.9.4 64-bit ('image-pro-env': virtualenv)"
  },
  "interpreter": {
   "hash": "b44a382db6b088e9b4d240c5209c3d39c6af3f8e91ec48911a367bc26ff9a0e1"
  }
 },
 "nbformat": 4,
 "nbformat_minor": 2
}