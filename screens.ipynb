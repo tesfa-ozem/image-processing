{
 "metadata": {
  "language_info": {
   "codemirror_mode": {
    "name": "ipython",
    "version": 3
   },
   "file_extension": ".py",
   "mimetype": "text/x-python",
   "name": "python",
   "nbconvert_exporter": "python",
   "pygments_lexer": "ipython3",
   "version": "3.8.6-final"
  },
  "orig_nbformat": 2,
  "kernelspec": {
   "name": "image-pro-env",
   "display_name": "image-pro-env",
   "language": "python"
  }
 },
 "nbformat": 4,
 "nbformat_minor": 2,
 "cells": [
  {
   "cell_type": "code",
   "execution_count": 129,
   "metadata": {},
   "outputs": [],
   "source": [
    "from pathlib import Path\n",
    "import glob\n",
    "import re\n",
    "import numpy as np\n",
    "import pandas as pd\n",
    "import xlsxwriter\n",
    "import base64"
   ]
  },
  {
   "cell_type": "code",
   "execution_count": 130,
   "metadata": {},
   "outputs": [],
   "source": [
    "files = glob.glob('THUMBNAILS/LEFT/*')"
   ]
  },
  {
   "cell_type": "code",
   "execution_count": 131,
   "metadata": {},
   "outputs": [
    {
     "output_type": "execute_result",
     "data": {
      "text/plain": [
       "'TY17-0102A-L'"
      ]
     },
     "metadata": {},
     "execution_count": 131
    }
   ],
   "source": [
    "re.split(\"[\\./]+\",files[2])[2]"
   ]
  },
  {
   "cell_type": "code",
   "execution_count": 132,
   "metadata": {},
   "outputs": [],
   "source": [
    "df = pd.read_excel('STOCK - REODER LEVELS.xlsx',engine='openpyxl',sheet_name='ODOO',usecols=[0,1,2,3])   "
   ]
  },
  {
   "cell_type": "code",
   "execution_count": 133,
   "metadata": {},
   "outputs": [],
   "source": [
    "image_dic = {}\n",
    "for img in files:\n",
    "    name_path = re.split(\"[\\./]+\",img)[2]\n",
    "    # name_path = name_path.replace(\" \", \"\")\n",
    "    # name_path = name_path.replace(\" (1)\", \"\")\n",
    "    image_dic[name_path] =base64.b64encode(open(f'{img}', \"rb\").read()).decode('utf8')\n",
    "    "
   ]
  },
  {
   "cell_type": "code",
   "execution_count": null,
   "metadata": {},
   "outputs": [],
   "source": []
  },
  {
   "cell_type": "code",
   "execution_count": 134,
   "metadata": {},
   "outputs": [],
   "source": [
    "img_df = pd.DataFrame(list(image_dic.items()),columns = ['Supplier/Supplier Product Code','image'])"
   ]
  },
  {
   "cell_type": "code",
   "execution_count": 99,
   "metadata": {},
   "outputs": [],
   "source": [
    "# img_df['Internal Reference']= img_df['Internal Reference'].str.replace(' ', '')"
   ]
  },
  {
   "cell_type": "code",
   "execution_count": 135,
   "metadata": {},
   "outputs": [],
   "source": [
    "df_merged= pd.merge(df,\n",
    "img_df,\n",
    "how='outer',\n",
    "on='Supplier/Supplier Product Code')"
   ]
  },
  {
   "cell_type": "code",
   "execution_count": 121,
   "metadata": {},
   "outputs": [
    {
     "output_type": "stream",
     "name": "stdout",
     "text": [
      "<class 'pandas.core.frame.DataFrame'>\nInt64Index: 2926 entries, 0 to 2925\nData columns (total 5 columns):\n #   Column                          Non-Null Count  Dtype  \n---  ------                          --------------  -----  \n 0   ITEMID                          2821 non-null   float64\n 1   External ID                     2821 non-null   object \n 2   Internal Reference              2821 non-null   object \n 3   Supplier/Supplier Product Code  2909 non-null   object \n 4   image                           720 non-null    object \ndtypes: float64(1), object(4)\nmemory usage: 137.2+ KB\n"
     ]
    }
   ],
   "source": [
    "df_merged.info()"
   ]
  },
  {
   "cell_type": "code",
   "execution_count": 136,
   "metadata": {},
   "outputs": [],
   "source": [
    "clean_df=df_merged[~df_merged['image'].isna()]"
   ]
  },
  {
   "cell_type": "code",
   "execution_count": 103,
   "metadata": {},
   "outputs": [],
   "source": [
    "clean_df.to_csv('output/right-images.csv')"
   ]
  },
  {
   "cell_type": "code",
   "execution_count": 138,
   "metadata": {},
   "outputs": [
    {
     "output_type": "execute_result",
     "data": {
      "text/plain": [
       "2823     TY01-1706-L\n",
       "2824     MZ10-0112-L\n",
       "2825     NS01-1006-L\n",
       "2826     TY01-2213-L\n",
       "2827     NS34-0506-L\n",
       "            ...     \n",
       "2909    MT05-0206C-L\n",
       "2910     NS01-1201-L\n",
       "2911     TY05-1504-L\n",
       "2912     MT05-0306-L\n",
       "2913     TY04-1250-L\n",
       "Name: Supplier/Supplier Product Code, Length: 91, dtype: object"
      ]
     },
     "metadata": {},
     "execution_count": 138
    }
   ],
   "source": [
    "clean_df[clean_df['Internal Reference'].isna()]['Supplier/Supplier Product Code']"
   ]
  },
  {
   "cell_type": "code",
   "execution_count": null,
   "metadata": {},
   "outputs": [],
   "source": []
  }
 ]
}