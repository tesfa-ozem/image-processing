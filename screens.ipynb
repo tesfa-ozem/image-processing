{
 "metadata": {
  "language_info": {
   "codemirror_mode": {
    "name": "ipython",
    "version": 3
   },
   "file_extension": ".py",
   "mimetype": "text/x-python",
   "name": "python",
   "nbconvert_exporter": "python",
   "pygments_lexer": "ipython3",
   "version": "3.9.4"
  },
  "orig_nbformat": 2,
  "kernelspec": {
   "name": "python3",
   "display_name": "Python 3.9.4 64-bit ('image-pro-env': virtualenv)"
  },
  "interpreter": {
   "hash": "b44a382db6b088e9b4d240c5209c3d39c6af3f8e91ec48911a367bc26ff9a0e1"
  }
 },
 "nbformat": 4,
 "nbformat_minor": 2,
 "cells": [
  {
   "cell_type": "code",
   "execution_count": 129,
   "source": [
    "from pathlib import Path\n",
    "import glob\n",
    "import re\n",
    "import numpy as np\n",
    "import pandas as pd\n",
    "import xlsxwriter\n",
    "import base64"
   ],
   "outputs": [],
   "metadata": {}
  },
  {
   "cell_type": "code",
   "execution_count": 130,
   "source": [
    "files = glob.glob('THUMBNAILS/LEFT/*')"
   ],
   "outputs": [],
   "metadata": {}
  },
  {
   "cell_type": "code",
   "execution_count": 131,
   "source": [
    "re.split(\"[\\./]+\",files[2])[2]"
   ],
   "outputs": [
    {
     "output_type": "execute_result",
     "data": {
      "text/plain": [
       "'TY17-0102A-L'"
      ]
     },
     "metadata": {},
     "execution_count": 131
    }
   ],
   "metadata": {}
  },
  {
   "cell_type": "code",
   "execution_count": 132,
   "source": [
    "df = pd.read_excel('STOCK - REODER LEVELS.xlsx',engine='openpyxl',sheet_name='ODOO',usecols=[0,1,2,3])   "
   ],
   "outputs": [],
   "metadata": {}
  },
  {
   "cell_type": "code",
   "execution_count": 133,
   "source": [
    "image_dic = {}\n",
    "for img in files:\n",
    "    name_path = re.split(\"[\\./]+\",img)[2]\n",
    "    # name_path = name_path.replace(\" \", \"\")\n",
    "    # name_path = name_path.replace(\" (1)\", \"\")\n",
    "    image_dic[name_path] =base64.b64encode(open(f'{img}', \"rb\").read()).decode('utf8')\n",
    "    "
   ],
   "outputs": [],
   "metadata": {}
  },
  {
   "cell_type": "code",
   "execution_count": null,
   "source": [],
   "outputs": [],
   "metadata": {}
  },
  {
   "cell_type": "code",
   "execution_count": 134,
   "source": [
    "img_df = pd.DataFrame(list(image_dic.items()),columns = ['Supplier/Supplier Product Code','image'])"
   ],
   "outputs": [],
   "metadata": {}
  },
  {
   "cell_type": "code",
   "execution_count": 99,
   "source": [
    "# img_df['Internal Reference']= img_df['Internal Reference'].str.replace(' ', '')"
   ],
   "outputs": [],
   "metadata": {}
  },
  {
   "cell_type": "code",
   "execution_count": 135,
   "source": [
    "df_merged= pd.merge(df,\n",
    "img_df,\n",
    "how='outer',\n",
    "on='Supplier/Supplier Product Code')"
   ],
   "outputs": [],
   "metadata": {}
  },
  {
   "cell_type": "code",
   "execution_count": 121,
   "source": [
    "df_merged.info()"
   ],
   "outputs": [
    {
     "output_type": "stream",
     "name": "stdout",
     "text": [
      "<class 'pandas.core.frame.DataFrame'>\n",
      "Int64Index: 2926 entries, 0 to 2925\n",
      "Data columns (total 5 columns):\n",
      " #   Column                          Non-Null Count  Dtype  \n",
      "---  ------                          --------------  -----  \n",
      " 0   ITEMID                          2821 non-null   float64\n",
      " 1   External ID                     2821 non-null   object \n",
      " 2   Internal Reference              2821 non-null   object \n",
      " 3   Supplier/Supplier Product Code  2909 non-null   object \n",
      " 4   image                           720 non-null    object \n",
      "dtypes: float64(1), object(4)\n",
      "memory usage: 137.2+ KB\n"
     ]
    }
   ],
   "metadata": {}
  },
  {
   "cell_type": "code",
   "execution_count": 136,
   "source": [
    "clean_df=df_merged[~df_merged['image'].isna()]"
   ],
   "outputs": [],
   "metadata": {}
  },
  {
   "cell_type": "code",
   "execution_count": 103,
   "source": [
    "clean_df.to_csv('output/right-images.csv')"
   ],
   "outputs": [],
   "metadata": {}
  },
  {
   "cell_type": "code",
   "execution_count": 138,
   "source": [
    "clean_df[clean_df['Internal Reference'].isna()]['Supplier/Supplier Product Code']"
   ],
   "outputs": [
    {
     "output_type": "execute_result",
     "data": {
      "text/plain": [
       "2823     TY01-1706-L\n",
       "2824     MZ10-0112-L\n",
       "2825     NS01-1006-L\n",
       "2826     TY01-2213-L\n",
       "2827     NS34-0506-L\n",
       "            ...     \n",
       "2909    MT05-0206C-L\n",
       "2910     NS01-1201-L\n",
       "2911     TY05-1504-L\n",
       "2912     MT05-0306-L\n",
       "2913     TY04-1250-L\n",
       "Name: Supplier/Supplier Product Code, Length: 91, dtype: object"
      ]
     },
     "metadata": {},
     "execution_count": 138
    }
   ],
   "metadata": {}
  },
  {
   "cell_type": "code",
   "execution_count": null,
   "source": [],
   "outputs": [],
   "metadata": {}
  }
 ]
}